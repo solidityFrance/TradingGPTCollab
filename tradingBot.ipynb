

Open In Colab
Deep Reinforcement Learning for Stock Trading from Scratch: Multiple Stock Trading Using Ensemble Strategy

Tutorials to use OpenAI DRL to trade multiple stocks using ensemble strategy in one Jupyter Notebook | Presented at ICAIF 2020

    This notebook is the reimplementation of our paper: Deep Reinforcement Learning for Automated Stock Trading: An Ensemble Strategy, using FinRL.
    Check out medium blog for detailed explanations: https://medium.com/@ai4finance/deep-reinforcement-learning-for-automated-stock-trading-f1dad0126a02
    Please report any issues to our Github: https://github.com/AI4Finance-LLC/FinRL-Library/issues
    Pytorch Version

Content

    1. Problem Definition
    2. Getting Started - Load Python packages
        2.1. Install Packages
        2.2. Check Additional Packages
        2.3. Import Packages
        2.4. Create Folders
    3. Download Data
    4. Preprocess Data
        4.1. Technical Indicators
        4.2. Perform Feature Engineering
    5.Build Environment
        5.1. Training & Trade Data Split
        5.2. User-defined Environment
        5.3. Initialize Environment
    6.Implement DRL Algorithms
    7.Backtesting Performance
        7.1. BackTestStats
        7.2. BackTestPlot
        7.3. Baseline Stats
        7.3. Compare to Stock Market Index

Part 1. Problem Definition

This problem is to design an automated trading solution for single stock trading. We model the stock trading process as a Markov Decision Process (MDP). We then formulate our trading goal as a maximization problem.

The algorithm is trained using Deep Reinforcement Learning (DRL) algorithms and the components of the reinforcement learning environment are:

    Action: The action space describes the allowed actions that the agent interacts with the

environment. Normally, a ∈ A includes three actions: a ∈ {−1, 0, 1}, where −1, 0, 1 represent selling, holding, and buying one stock. Also, an action can be carried upon multiple shares. We use an action space {−k, ..., −1, 0, 1, ..., k}, where k denotes the number of shares. For example, "Buy 10 shares of AAPL" or "Sell 10 shares of AAPL" are 10 or −10, respectively

    Reward function: r(s, a, s′) is the incentive mechanism for an agent to learn a better action. The change of the portfolio value when action a is taken at state s and arriving at new state s', i.e., r(s, a, s′) = v′ − v, where v′ and v represent the portfolio

values at state s′ and s, respectively

    State: The state space describes the observations that the agent receives from the environment. Just as a human trader needs to analyze various information before executing a trade, so

our trading agent observes many different features to better learn in an interactive environment.

    Environment: Dow 30 consituents

The data of the single stock that we will be using for this case study is obtained from Yahoo Finance API. The data contains Open-High-Low-Close price and volume.

Part 2. Getting Started- Load Python Packages

2.1. Install all the packages through FinRL library

!pip install setuptools==64.0.2
!apt-get install swig
!pip install wrds
!pip install git+https://github.com/AI4Finance-LLC/FinRL-Library.git

Looking in indexes: https://pypi.org/simple, https://us-python.pkg.dev/colab-wheels/public/simple/
Requirement already satisfied: setuptools==64.0.2 in /usr/local/lib/python3.8/dist-packages (64.0.2)
Reading package lists... Done
Building dependency tree       
Reading state information... Done
swig is already the newest version (3.0.12-1).
The following package was automatically installed and is no longer required:
  libnvidia-common-460
Use 'apt autoremove' to remove it.
0 upgraded, 0 newly installed, 0 to remove and 21 not upgraded.
Looking in indexes: https://pypi.org/simple, https://us-python.pkg.dev/colab-wheels/public/simple/
Requirement already satisfied: wrds in /usr/local/lib/python3.8/dist-packages (3.1.2)
Requirement already satisfied: sqlalchemy in /usr/local/lib/python3.8/dist-packages (from wrds) (1.4.46)
Requirement already satisfied: pandas in /usr/local/lib/python3.8/dist-packages (from wrds) (1.3.5)
Requirement already satisfied: mock in /usr/local/lib/python3.8/dist-packages (from wrds) (5.0.1)
Requirement already satisfied: numpy in /usr/local/lib/python3.8/dist-packages (from wrds) (1.21.6)
Requirement already satisfied: psycopg2-binary in /usr/local/lib/python3.8/dist-packages (from wrds) (2.9.5)
Requirement already satisfied: pytz>=2017.3 in /usr/local/lib/python3.8/dist-packages (from pandas->wrds) (2022.7)
Requirement already satisfied: python-dateutil>=2.7.3 in /usr/local/lib/python3.8/dist-packages (from pandas->wrds) (2.8.2)
Requirement already satisfied: greenlet!=0.4.17 in /usr/local/lib/python3.8/dist-packages (from sqlalchemy->wrds) (2.0.1)
Requirement already satisfied: six>=1.5 in /usr/local/lib/python3.8/dist-packages (from python-dateutil>=2.7.3->pandas->wrds) (1.15.0)
Looking in indexes: https://pypi.org/simple, https://us-python.pkg.dev/colab-wheels/public/simple/
Collecting git+https://github.com/AI4Finance-LLC/FinRL-Library.git
  Cloning https://github.com/AI4Finance-LLC/FinRL-Library.git to /tmp/pip-req-build-61v64vhl
  Running command git clone --filter=blob:none --quiet https://github.com/AI4Finance-LLC/FinRL-Library.git /tmp/pip-req-build-61v64vhl
  Resolved https://github.com/AI4Finance-LLC/FinRL-Library.git to commit 7a3ff8136bf98a30a588ed587297476929f20cd9
  Installing build dependencies ... done
  Getting requirements to build wheel ... done
  Preparing metadata (pyproject.toml) ... done
Collecting elegantrl@ git+https://github.com/AI4Finance-Foundation/ElegantRL.git#egg=elegantrl
  Cloning https://github.com/AI4Finance-Foundation/ElegantRL.git to /tmp/pip-install-ex_o5ddw/elegantrl_eb5dd5dc326a403db11c9d90e7058b2a
  Running command git clone --filter=blob:none --quiet https://github.com/AI4Finance-Foundation/ElegantRL.git /tmp/pip-install-ex_o5ddw/elegantrl_eb5dd5dc326a403db11c9d90e7058b2a
  Resolved https://github.com/AI4Finance-Foundation/ElegantRL.git to commit 3a8520bee4e86b9f8683046ae7447b795e0d0849
  Preparing metadata (setup.py) ... done
Collecting pyfolio@ git+https://github.com/quantopian/pyfolio.git#egg=pyfolio-0.9.2
  Cloning https://github.com/quantopian/pyfolio.git to /tmp/pip-install-ex_o5ddw/pyfolio_c7d1b27160874fe78034d8a190c0a9ea
  Running command git clone --filter=blob:none --quiet https://github.com/quantopian/pyfolio.git /tmp/pip-install-ex_o5ddw/pyfolio_c7d1b27160874fe78034d8a190c0a9ea
  Resolved https://github.com/quantopian/pyfolio.git to commit 4b901f6d73aa02ceb6d04b7d83502e5c6f2e81aa
  Preparing metadata (setup.py) ... done
Requirement already satisfied: jqdatasdk in /usr/local/lib/python3.8/dist-packages (from finrl==0.3.5) (1.8.11)
Requirement already satisfied: gym>=0.17 in /usr/local/lib/python3.8/dist-packages (from finrl==0.3.5) (0.21.0)
Requirement already satisfied: tensorboardX in /usr/local/lib/python3.8/dist-packages (from finrl==0.3.5) (2.5.1)
Requirement already satisfied: scikit-learn>=0.21.0 in /usr/local/lib/python3.8/dist-packages (from finrl==0.3.5) (1.0.2)
Requirement already satisfied: exchange_calendars==3.6.3 in /usr/local/lib/python3.8/dist-packages (from finrl==0.3.5) (3.6.3)
Requirement already satisfied: gputil in /usr/local/lib/python3.8/dist-packages (from finrl==0.3.5) (1.4.0)
Requirement already satisfied: ccxt>=1.66.32 in /usr/local/lib/python3.8/dist-packages (from finrl==0.3.5) (2.6.1)
Requirement already satisfied: importlib-metadata==4.13.0 in /usr/local/lib/python3.8/dist-packages (from finrl==0.3.5) (4.13.0)
Requirement already satisfied: matplotlib in /usr/local/lib/python3.8/dist-packages (from finrl==0.3.5) (3.2.2)
Requirement already satisfied: stockstats>=0.4.0 in /usr/local/lib/python3.8/dist-packages (from finrl==0.3.5) (0.5.1)
Requirement already satisfied: pandas>=1.1.5 in /usr/local/lib/python3.8/dist-packages (from finrl==0.3.5) (1.3.5)
Requirement already satisfied: stable-baselines3<2.0.0,>=1.6.2 in /usr/local/lib/python3.8/dist-packages (from finrl==0.3.5) (1.7.0)
Requirement already satisfied: numpy>=1.17.3 in /usr/local/lib/python3.8/dist-packages (from finrl==0.3.5) (1.21.6)
Requirement already satisfied: ray[default,tune]==1.3.0 in /usr/local/lib/python3.8/dist-packages (from finrl==0.3.5) (1.3.0)
Requirement already satisfied: alpaca_trade_api>=2.1.0 in /usr/local/lib/python3.8/dist-packages (from finrl==0.3.5) (2.3.0)
Requirement already satisfied: yfinance in /usr/local/lib/python3.8/dist-packages (from finrl==0.3.5) (0.2.3)
Requirement already satisfied: lz4 in /usr/local/lib/python3.8/dist-packages (from finrl==0.3.5) (4.3.2)
Requirement already satisfied: korean-lunar-calendar in /usr/local/lib/python3.8/dist-packages (from exchange_calendars==3.6.3->finrl==0.3.5) (0.3.1)
Requirement already satisfied: toolz in /usr/local/lib/python3.8/dist-packages (from exchange_calendars==3.6.3->finrl==0.3.5) (0.12.0)
Requirement already satisfied: pyluach in /usr/local/lib/python3.8/dist-packages (from exchange_calendars==3.6.3->finrl==0.3.5) (2.0.2)
Requirement already satisfied: python-dateutil in /usr/local/lib/python3.8/dist-packages (from exchange_calendars==3.6.3->finrl==0.3.5) (2.8.2)
Requirement already satisfied: pytz in /usr/local/lib/python3.8/dist-packages (from exchange_calendars==3.6.3->finrl==0.3.5) (2022.7)
Requirement already satisfied: zipp>=0.5 in /usr/local/lib/python3.8/dist-packages (from importlib-metadata==4.13.0->finrl==0.3.5) (3.11.0)
Requirement already satisfied: redis>=3.5.0 in /usr/local/lib/python3.8/dist-packages (from ray[default,tune]==1.3.0->finrl==0.3.5) (4.4.2)
Requirement already satisfied: colorama in /usr/local/lib/python3.8/dist-packages (from ray[default,tune]==1.3.0->finrl==0.3.5) (0.4.6)
Requirement already satisfied: prometheus-client>=0.7.1 in /usr/local/lib/python3.8/dist-packages (from ray[default,tune]==1.3.0->finrl==0.3.5) (0.15.0)
Requirement already satisfied: msgpack<2.0.0,>=1.0.0 in /usr/local/lib/python3.8/dist-packages (from ray[default,tune]==1.3.0->finrl==0.3.5) (1.0.3)
Requirement already satisfied: opencensus in /usr/local/lib/python3.8/dist-packages (from ray[default,tune]==1.3.0->finrl==0.3.5) (0.11.0)
Requirement already satisfied: filelock in /usr/local/lib/python3.8/dist-packages (from ray[default,tune]==1.3.0->finrl==0.3.5) (3.9.0)
Requirement already satisfied: jsonschema in /usr/local/lib/python3.8/dist-packages (from ray[default,tune]==1.3.0->finrl==0.3.5) (4.3.3)
Requirement already satisfied: aiohttp in /usr/local/lib/python3.8/dist-packages (from ray[default,tune]==1.3.0->finrl==0.3.5) (3.8.1)
Requirement already satisfied: aiohttp-cors in /usr/local/lib/python3.8/dist-packages (from ray[default,tune]==1.3.0->finrl==0.3.5) (0.7.0)
Requirement already satisfied: aioredis in /usr/local/lib/python3.8/dist-packages (from ray[default,tune]==1.3.0->finrl==0.3.5) (2.0.1)
Requirement already satisfied: grpcio>=1.28.1 in /usr/local/lib/python3.8/dist-packages (from ray[default,tune]==1.3.0->finrl==0.3.5) (1.51.1)
Requirement already satisfied: requests in /usr/local/lib/python3.8/dist-packages (from ray[default,tune]==1.3.0->finrl==0.3.5) (2.28.2)
Requirement already satisfied: pyyaml in /usr/local/lib/python3.8/dist-packages (from ray[default,tune]==1.3.0->finrl==0.3.5) (6.0)
Requirement already satisfied: protobuf>=3.15.3 in /usr/local/lib/python3.8/dist-packages (from ray[default,tune]==1.3.0->finrl==0.3.5) (3.19.6)
Requirement already satisfied: click>=7.0 in /usr/local/lib/python3.8/dist-packages (from ray[default,tune]==1.3.0->finrl==0.3.5) (7.1.2)
Requirement already satisfied: gpustat in /usr/local/lib/python3.8/dist-packages (from ray[default,tune]==1.3.0->finrl==0.3.5) (1.0.0)
Requirement already satisfied: py-spy>=0.2.0 in /usr/local/lib/python3.8/dist-packages (from ray[default,tune]==1.3.0->finrl==0.3.5) (0.3.14)
Requirement already satisfied: tabulate in /usr/local/lib/python3.8/dist-packages (from ray[default,tune]==1.3.0->finrl==0.3.5) (0.8.10)
Requirement already satisfied: colorful in /usr/local/lib/python3.8/dist-packages (from ray[default,tune]==1.3.0->finrl==0.3.5) (0.5.5)
Requirement already satisfied: websocket-client<2,>=0.56.0 in /usr/local/lib/python3.8/dist-packages (from alpaca_trade_api>=2.1.0->finrl==0.3.5) (1.4.2)
Requirement already satisfied: deprecation==2.1.0 in /usr/local/lib/python3.8/dist-packages (from alpaca_trade_api>=2.1.0->finrl==0.3.5) (2.1.0)
Requirement already satisfied: urllib3<2,>1.24 in /usr/local/lib/python3.8/dist-packages (from alpaca_trade_api>=2.1.0->finrl==0.3.5) (1.24.3)
Requirement already satisfied: websockets<11,>=9.0 in /usr/local/lib/python3.8/dist-packages (from alpaca_trade_api>=2.1.0->finrl==0.3.5) (10.4)
Requirement already satisfied: multidict<7.0,>=4.5 in /usr/local/lib/python3.8/dist-packages (from aiohttp->ray[default,tune]==1.3.0->finrl==0.3.5) (6.0.4)
Requirement already satisfied: attrs>=17.3.0 in /usr/local/lib/python3.8/dist-packages (from aiohttp->ray[default,tune]==1.3.0->finrl==0.3.5) (22.2.0)
Requirement already satisfied: yarl<2.0,>=1.0 in /usr/local/lib/python3.8/dist-packages (from aiohttp->ray[default,tune]==1.3.0->finrl==0.3.5) (1.8.2)
Requirement already satisfied: charset-normalizer<3.0,>=2.0 in /usr/local/lib/python3.8/dist-packages (from aiohttp->ray[default,tune]==1.3.0->finrl==0.3.5) (2.1.1)
Requirement already satisfied: aiosignal>=1.1.2 in /usr/local/lib/python3.8/dist-packages (from aiohttp->ray[default,tune]==1.3.0->finrl==0.3.5) (1.3.1)
Requirement already satisfied: async-timeout<5.0,>=4.0.0a3 in /usr/local/lib/python3.8/dist-packages (from aiohttp->ray[default,tune]==1.3.0->finrl==0.3.5) (4.0.2)
Requirement already satisfied: frozenlist>=1.1.1 in /usr/local/lib/python3.8/dist-packages (from aiohttp->ray[default,tune]==1.3.0->finrl==0.3.5) (1.3.3)
Requirement already satisfied: packaging in /usr/local/lib/python3.8/dist-packages (from deprecation==2.1.0->alpaca_trade_api>=2.1.0->finrl==0.3.5) (21.3)
Requirement already satisfied: cryptography>=2.6.1 in /usr/local/lib/python3.8/dist-packages (from ccxt>=1.66.32->finrl==0.3.5) (39.0.0)
Requirement already satisfied: aiodns>=1.1.1 in /usr/local/lib/python3.8/dist-packages (from ccxt>=1.66.32->finrl==0.3.5) (3.0.0)
Requirement already satisfied: setuptools>=60.9.0 in /usr/local/lib/python3.8/dist-packages (from ccxt>=1.66.32->finrl==0.3.5) (64.0.2)
Requirement already satisfied: certifi>=2018.1.18 in /usr/local/lib/python3.8/dist-packages (from ccxt>=1.66.32->finrl==0.3.5) (2022.12.7)
Requirement already satisfied: cloudpickle>=1.2.0 in /usr/local/lib/python3.8/dist-packages (from gym>=0.17->finrl==0.3.5) (2.2.0)
Requirement already satisfied: scipy>=1.1.0 in /usr/local/lib/python3.8/dist-packages (from scikit-learn>=0.21.0->finrl==0.3.5) (1.7.3)
Requirement already satisfied: threadpoolctl>=2.0.0 in /usr/local/lib/python3.8/dist-packages (from scikit-learn>=0.21.0->finrl==0.3.5) (3.1.0)
Requirement already satisfied: joblib>=0.11 in /usr/local/lib/python3.8/dist-packages (from scikit-learn>=0.21.0->finrl==0.3.5) (1.2.0)
Requirement already satisfied: torch>=1.11 in /usr/local/lib/python3.8/dist-packages (from stable-baselines3<2.0.0,>=1.6.2->finrl==0.3.5) (1.13.0+cu116)
Requirement already satisfied: six in /usr/local/lib/python3.8/dist-packages (from jqdatasdk->finrl==0.3.5) (1.15.0)
Requirement already satisfied: thriftpy2>=0.3.9 in /usr/local/lib/python3.8/dist-packages (from jqdatasdk->finrl==0.3.5) (0.4.16)
Requirement already satisfied: SQLAlchemy>=1.2.8 in /usr/local/lib/python3.8/dist-packages (from jqdatasdk->finrl==0.3.5) (1.4.46)
Requirement already satisfied: pymysql>=0.7.6 in /usr/local/lib/python3.8/dist-packages (from jqdatasdk->finrl==0.3.5) (1.0.2)
Requirement already satisfied: pyparsing!=2.0.4,!=2.1.2,!=2.1.6,>=2.0.1 in /usr/local/lib/python3.8/dist-packages (from matplotlib->finrl==0.3.5) (3.0.9)
Requirement already satisfied: kiwisolver>=1.0.1 in /usr/local/lib/python3.8/dist-packages (from matplotlib->finrl==0.3.5) (1.4.4)
Requirement already satisfied: cycler>=0.10 in /usr/local/lib/python3.8/dist-packages (from matplotlib->finrl==0.3.5) (0.11.0)
Requirement already satisfied: ipython>=3.2.3 in /usr/local/lib/python3.8/dist-packages (from pyfolio@ git+https://github.com/quantopian/pyfolio.git#egg=pyfolio-0.9.2->finrl==0.3.5) (7.9.0)
Requirement already satisfied: seaborn>=0.7.1 in /usr/local/lib/python3.8/dist-packages (from pyfolio@ git+https://github.com/quantopian/pyfolio.git#egg=pyfolio-0.9.2->finrl==0.3.5) (0.11.2)
Requirement already satisfied: empyrical>=0.5.0 in /usr/local/lib/python3.8/dist-packages (from pyfolio@ git+https://github.com/quantopian/pyfolio.git#egg=pyfolio-0.9.2->finrl==0.3.5) (0.5.5)
Requirement already satisfied: appdirs>=1.4.4 in /usr/local/lib/python3.8/dist-packages (from yfinance->finrl==0.3.5) (1.4.4)
Requirement already satisfied: html5lib>=1.1 in /usr/local/lib/python3.8/dist-packages (from yfinance->finrl==0.3.5) (1.1)
Requirement already satisfied: lxml>=4.9.1 in /usr/local/lib/python3.8/dist-packages (from yfinance->finrl==0.3.5) (4.9.2)
Requirement already satisfied: multitasking>=0.0.7 in /usr/local/lib/python3.8/dist-packages (from yfinance->finrl==0.3.5) (0.0.11)
Requirement already satisfied: beautifulsoup4>=4.11.1 in /usr/local/lib/python3.8/dist-packages (from yfinance->finrl==0.3.5) (4.11.1)
Requirement already satisfied: frozendict>=2.3.4 in /usr/local/lib/python3.8/dist-packages (from yfinance->finrl==0.3.5) (2.3.4)
Requirement already satisfied: pycares>=4.0.0 in /usr/local/lib/python3.8/dist-packages (from aiodns>=1.1.1->ccxt>=1.66.32->finrl==0.3.5) (4.3.0)
Requirement already satisfied: soupsieve>1.2 in /usr/local/lib/python3.8/dist-packages (from beautifulsoup4>=4.11.1->yfinance->finrl==0.3.5) (2.3.2.post1)
Requirement already satisfied: cffi>=1.12 in /usr/local/lib/python3.8/dist-packages (from cryptography>=2.6.1->ccxt>=1.66.32->finrl==0.3.5) (1.15.1)
Requirement already satisfied: pandas-datareader>=0.2 in /usr/local/lib/python3.8/dist-packages (from empyrical>=0.5.0->pyfolio@ git+https://github.com/quantopian/pyfolio.git#egg=pyfolio-0.9.2->finrl==0.3.5) (0.9.0)
Requirement already satisfied: webencodings in /usr/local/lib/python3.8/dist-packages (from html5lib>=1.1->yfinance->finrl==0.3.5) (0.5.1)
Requirement already satisfied: jedi>=0.10 in /usr/local/lib/python3.8/dist-packages (from ipython>=3.2.3->pyfolio@ git+https://github.com/quantopian/pyfolio.git#egg=pyfolio-0.9.2->finrl==0.3.5) (0.18.2)
Requirement already satisfied: pygments in /usr/local/lib/python3.8/dist-packages (from ipython>=3.2.3->pyfolio@ git+https://github.com/quantopian/pyfolio.git#egg=pyfolio-0.9.2->finrl==0.3.5) (2.6.1)
Requirement already satisfied: backcall in /usr/local/lib/python3.8/dist-packages (from ipython>=3.2.3->pyfolio@ git+https://github.com/quantopian/pyfolio.git#egg=pyfolio-0.9.2->finrl==0.3.5) (0.2.0)
Requirement already satisfied: pickleshare in /usr/local/lib/python3.8/dist-packages (from ipython>=3.2.3->pyfolio@ git+https://github.com/quantopian/pyfolio.git#egg=pyfolio-0.9.2->finrl==0.3.5) (0.7.5)
Requirement already satisfied: traitlets>=4.2 in /usr/local/lib/python3.8/dist-packages (from ipython>=3.2.3->pyfolio@ git+https://github.com/quantopian/pyfolio.git#egg=pyfolio-0.9.2->finrl==0.3.5) (5.7.1)
Requirement already satisfied: pexpect in /usr/local/lib/python3.8/dist-packages (from ipython>=3.2.3->pyfolio@ git+https://github.com/quantopian/pyfolio.git#egg=pyfolio-0.9.2->finrl==0.3.5) (4.8.0)
Requirement already satisfied: decorator in /usr/local/lib/python3.8/dist-packages (from ipython>=3.2.3->pyfolio@ git+https://github.com/quantopian/pyfolio.git#egg=pyfolio-0.9.2->finrl==0.3.5) (4.4.2)
Requirement already satisfied: prompt-toolkit<2.1.0,>=2.0.0 in /usr/local/lib/python3.8/dist-packages (from ipython>=3.2.3->pyfolio@ git+https://github.com/quantopian/pyfolio.git#egg=pyfolio-0.9.2->finrl==0.3.5) (2.0.10)
Requirement already satisfied: idna<4,>=2.5 in /usr/local/lib/python3.8/dist-packages (from requests->ray[default,tune]==1.3.0->finrl==0.3.5) (2.10)
Requirement already satisfied: greenlet!=0.4.17 in /usr/local/lib/python3.8/dist-packages (from SQLAlchemy>=1.2.8->jqdatasdk->finrl==0.3.5) (2.0.1)
Requirement already satisfied: ply<4.0,>=3.4 in /usr/local/lib/python3.8/dist-packages (from thriftpy2>=0.3.9->jqdatasdk->finrl==0.3.5) (3.11)
Requirement already satisfied: typing-extensions in /usr/local/lib/python3.8/dist-packages (from torch>=1.11->stable-baselines3<2.0.0,>=1.6.2->finrl==0.3.5) (4.4.0)
Requirement already satisfied: blessed>=1.17.1 in /usr/local/lib/python3.8/dist-packages (from gpustat->ray[default,tune]==1.3.0->finrl==0.3.5) (1.19.1)
Requirement already satisfied: psutil>=5.6.0 in /usr/local/lib/python3.8/dist-packages (from gpustat->ray[default,tune]==1.3.0->finrl==0.3.5) (5.9.4)
Requirement already satisfied: nvidia-ml-py<=11.495.46,>=11.450.129 in /usr/local/lib/python3.8/dist-packages (from gpustat->ray[default,tune]==1.3.0->finrl==0.3.5) (11.495.46)
Requirement already satisfied: box2d-py==2.3.5 in /usr/local/lib/python3.8/dist-packages (from gym>=0.17->finrl==0.3.5) (2.3.5)
Requirement already satisfied: pyglet>=1.4.0 in /usr/local/lib/python3.8/dist-packages (from gym>=0.17->finrl==0.3.5) (2.0.3)
Requirement already satisfied: importlib-resources>=1.4.0 in /usr/local/lib/python3.8/dist-packages (from jsonschema->ray[default,tune]==1.3.0->finrl==0.3.5) (5.10.2)
Requirement already satisfied: pyrsistent!=0.17.0,!=0.17.1,!=0.17.2,>=0.14.0 in /usr/local/lib/python3.8/dist-packages (from jsonschema->ray[default,tune]==1.3.0->finrl==0.3.5) (0.19.3)
Requirement already satisfied: google-api-core<3.0.0,>=1.0.0 in /usr/local/lib/python3.8/dist-packages (from opencensus->ray[default,tune]==1.3.0->finrl==0.3.5) (2.11.0)
Requirement already satisfied: opencensus-context>=0.1.3 in /usr/local/lib/python3.8/dist-packages (from opencensus->ray[default,tune]==1.3.0->finrl==0.3.5) (0.1.3)
Requirement already satisfied: wcwidth>=0.1.4 in /usr/local/lib/python3.8/dist-packages (from blessed>=1.17.1->gpustat->ray[default,tune]==1.3.0->finrl==0.3.5) (0.2.5)
Requirement already satisfied: pycparser in /usr/local/lib/python3.8/dist-packages (from cffi>=1.12->cryptography>=2.6.1->ccxt>=1.66.32->finrl==0.3.5) (2.21)
Requirement already satisfied: google-auth<3.0dev,>=2.14.1 in /usr/local/lib/python3.8/dist-packages (from google-api-core<3.0.0,>=1.0.0->opencensus->ray[default,tune]==1.3.0->finrl==0.3.5) (2.15.0)
Requirement already satisfied: googleapis-common-protos<2.0dev,>=1.56.2 in /usr/local/lib/python3.8/dist-packages (from google-api-core<3.0.0,>=1.0.0->opencensus->ray[default,tune]==1.3.0->finrl==0.3.5) (1.57.1)
Requirement already satisfied: parso<0.9.0,>=0.8.0 in /usr/local/lib/python3.8/dist-packages (from jedi>=0.10->ipython>=3.2.3->pyfolio@ git+https://github.com/quantopian/pyfolio.git#egg=pyfolio-0.9.2->finrl==0.3.5) (0.8.3)
Requirement already satisfied: ptyprocess>=0.5 in /usr/local/lib/python3.8/dist-packages (from pexpect->ipython>=3.2.3->pyfolio@ git+https://github.com/quantopian/pyfolio.git#egg=pyfolio-0.9.2->finrl==0.3.5) (0.7.0)
Requirement already satisfied: cachetools<6.0,>=2.0.0 in /usr/local/lib/python3.8/dist-packages (from google-auth<3.0dev,>=2.14.1->google-api-core<3.0.0,>=1.0.0->opencensus->ray[default,tune]==1.3.0->finrl==0.3.5) (5.2.0)
Requirement already satisfied: rsa<5,>=3.1.4 in /usr/local/lib/python3.8/dist-packages (from google-auth<3.0dev,>=2.14.1->google-api-core<3.0.0,>=1.0.0->opencensus->ray[default,tune]==1.3.0->finrl==0.3.5) (4.9)
Requirement already satisfied: pyasn1-modules>=0.2.1 in /usr/local/lib/python3.8/dist-packages (from google-auth<3.0dev,>=2.14.1->google-api-core<3.0.0,>=1.0.0->opencensus->ray[default,tune]==1.3.0->finrl==0.3.5) (0.2.8)
Requirement already satisfied: pyasn1<0.5.0,>=0.4.6 in /usr/local/lib/python3.8/dist-packages (from pyasn1-modules>=0.2.1->google-auth<3.0dev,>=2.14.1->google-api-core<3.0.0,>=1.0.0->opencensus->ray[default,tune]==1.3.0->finrl==0.3.5) (0.4.8)

2.2. Check if the additional packages needed are present, if not install them.

    Yahoo Finance API
    pandas
    numpy
    matplotlib
    stockstats
    OpenAI gym
    stable-baselines
    tensorflow
    pyfolio

2.3. Import Packages

import warnings
warnings.filterwarnings("ignore")

import pandas as pd
import numpy as np
import matplotlib
import matplotlib.pyplot as plt
# matplotlib.use('Agg')
import datetime

%matplotlib inline
from finrl.config_tickers import DOW_30_TICKER
from finrl.meta.preprocessor.yahoodownloader import YahooDownloader
from finrl.meta.preprocessor.preprocessors import FeatureEngineer, data_split
from finrl.meta.env_stock_trading.env_stocktrading import StockTradingEnv
from finrl.agents.stablebaselines3.models import DRLAgent,DRLEnsembleAgent
from finrl.plot import backtest_stats, backtest_plot, get_daily_return, get_baseline

from pprint import pprint

import sys
sys.path.append("../FinRL-Library")

import itertools

2.4. Create Folders

import os
from finrl.main import check_and_make_directories
from finrl.config import (
    DATA_SAVE_DIR,
    TRAINED_MODEL_DIR,
    TENSORBOARD_LOG_DIR,
    RESULTS_DIR,
    INDICATORS,
    TRAIN_START_DATE,
    TRAIN_END_DATE,
    TEST_START_DATE,
    TEST_END_DATE,
    TRADE_START_DATE,
    TRADE_END_DATE,
)

check_and_make_directories([DATA_SAVE_DIR, TRAINED_MODEL_DIR, TENSORBOARD_LOG_DIR, RESULTS_DIR])

Part 3. Download Data

Yahoo Finance is a website that provides stock data, financial news, financial reports, etc. All the data provided by Yahoo Finance is free.

    FinRL uses a class YahooDownloader to fetch data from Yahoo Finance API
    Call Limit: Using the Public API (without authentication), you are limited to 2,000 requests per hour per IP (or up to a total of 48,000 requests a day).

class YahooDownloader: Provides methods for retrieving daily stock data from Yahoo Finance API

Attributes
----------
    start_date : str
        start date of the data (modified from config.py)
    end_date : str
        end date of the data (modified from config.py)
    ticker_list : list
        a list of stock tickers (modified from config.py)

Methods
-------
fetch_data()
    Fetches data from yahoo API

print(DOW_30_TICKER)

['AXP', 'AMGN', 'AAPL', 'BA', 'CAT', 'CSCO', 'CVX', 'GS', 'HD', 'HON', 'IBM', 'INTC', 'JNJ', 'KO', 'JPM', 'MCD', 'MMM', 'MRK', 'MSFT', 'NKE', 'PG', 'TRV', 'UNH', 'CRM', 'VZ', 'V', 'WBA', 'WMT', 'DIS', 'DOW']

TRAIN_START_DATE = '2009-04-01'
TRAIN_END_DATE = '2021-01-01'
TEST_START_DATE = '2021-01-01'
TEST_END_DATE = '2022-06-01'

df = YahooDownloader(start_date = TRAIN_START_DATE,
                     end_date = TEST_END_DATE,
                     ticker_list = DOW_30_TICKER).fetch_data()

[*********************100%***********************]  1 of 1 completed
[*********************100%***********************]  1 of 1 completed
[*********************100%***********************]  1 of 1 completed
[*********************100%***********************]  1 of 1 completed
[*********************100%***********************]  1 of 1 completed
[*********************100%***********************]  1 of 1 completed
[*********************100%***********************]  1 of 1 completed
[*********************100%***********************]  1 of 1 completed
[*********************100%***********************]  1 of 1 completed
[*********************100%***********************]  1 of 1 completed
[*********************100%***********************]  1 of 1 completed
[*********************100%***********************]  1 of 1 completed
[*********************100%***********************]  1 of 1 completed
[*********************100%***********************]  1 of 1 completed
[*********************100%***********************]  1 of 1 completed
[*********************100%***********************]  1 of 1 completed
[*********************100%***********************]  1 of 1 completed
[*********************100%***********************]  1 of 1 completed
[*********************100%***********************]  1 of 1 completed
[*********************100%***********************]  1 of 1 completed
[*********************100%***********************]  1 of 1 completed
[*********************100%***********************]  1 of 1 completed
[*********************100%***********************]  1 of 1 completed
[*********************100%***********************]  1 of 1 completed
[*********************100%***********************]  1 of 1 completed
[*********************100%***********************]  1 of 1 completed
[*********************100%***********************]  1 of 1 completed
[*********************100%***********************]  1 of 1 completed
[*********************100%***********************]  1 of 1 completed
[*********************100%***********************]  1 of 1 completed
Shape of DataFrame:  (96942, 8)

df.head()

	date 	open 	high 	low 	close 	volume 	tic 	day
0 	2009-04-01 	3.717500 	3.892857 	3.710357 	3.308904 	589372000 	AAPL 	2
1 	2009-04-01 	48.779999 	48.930000 	47.099998 	36.228397 	10850100 	AMGN 	2
2 	2009-04-01 	13.340000 	14.640000 	13.080000 	11.732111 	27701800 	AXP 	2
3 	2009-04-01 	34.520000 	35.599998 	34.209999 	26.850748 	9288800 	BA 	2
4 	2009-04-01 	27.500000 	29.520000 	27.440001 	19.820395 	15308300 	CAT 	2

df.tail()

	date 	open 	high 	low 	close 	volume 	tic 	day
96937 	2022-05-31 	503.619995 	504.109985 	495.660004 	491.949829 	4003100 	UNH 	1
96938 	2022-05-31 	210.380005 	214.350006 	209.110001 	211.322525 	9586400 	V 	1
96939 	2022-05-31 	51.259998 	51.560001 	50.849998 	49.042248 	25016600 	VZ 	1
96940 	2022-05-31 	43.480000 	44.270000 	43.049999 	42.811329 	8192000 	WBA 	1
96941 	2022-05-31 	127.459999 	129.899994 	127.419998 	127.591217 	12304100 	WMT 	1

df.shape

(96942, 8)

df.sort_values(['date','tic']).head()

	date 	open 	high 	low 	close 	volume 	tic 	day
0 	2009-04-01 	3.717500 	3.892857 	3.710357 	3.308904 	589372000 	AAPL 	2
1 	2009-04-01 	48.779999 	48.930000 	47.099998 	36.228397 	10850100 	AMGN 	2
2 	2009-04-01 	13.340000 	14.640000 	13.080000 	11.732111 	27701800 	AXP 	2
3 	2009-04-01 	34.520000 	35.599998 	34.209999 	26.850748 	9288800 	BA 	2
4 	2009-04-01 	27.500000 	29.520000 	27.440001 	19.820395 	15308300 	CAT 	2

len(df.tic.unique())

30

df.tic.value_counts()

AAPL    3315
AMGN    3315
WMT     3315
WBA     3315
VZ      3315
V       3315
UNH     3315
TRV     3315
PG      3315
NKE     3315
MSFT    3315
MRK     3315
MMM     3315
MCD     3315
KO      3315
JPM     3315
JNJ     3315
INTC    3315
IBM     3315
HON     3315
HD      3315
GS      3315
DIS     3315
CVX     3315
CSCO    3315
CRM     3315
CAT     3315
BA      3315
AXP     3315
DOW      807
Name: tic, dtype: int64

Part 4: Preprocess Data

Data preprocessing is a crucial step for training a high quality machine learning model. We need to check for missing data and do feature engineering in order to convert the data into a model-ready state.

    Add technical indicators. In practical trading, various information needs to be taken into account, for example the historical stock prices, current holding shares, technical indicators, etc. In this article, we demonstrate two trend-following technical indicators: MACD and RSI.
    Add turbulence index. Risk-aversion reflects whether an investor will choose to preserve the capital. It also influences one's trading strategy when facing different market volatility level. To control the risk in a worst-case scenario, such as financial crisis of 2007–2008, FinRL employs the financial turbulence index that measures extreme asset price fluctuation.

 INDICATORS = ['macd',
               'rsi_30',
               'cci_30',
               'dx_30']

fe = FeatureEngineer(use_technical_indicator=True,
                     tech_indicator_list = INDICATORS,
                     use_turbulence=True,
                     user_defined_feature = False)

processed = fe.preprocess_data(df)
processed = processed.copy()
processed = processed.fillna(0)
processed = processed.replace(np.inf,0)

Successfully added technical indicators
Successfully added turbulence index

processed.sample(5)

	date 	open 	high 	low 	close 	volume 	tic 	day 	macd 	rsi_30 	cci_30 	dx_30 	turbulence
2821 	2009-08-19 	25.000000 	25.600000 	25.000000 	21.940813 	11145500 	DIS 	2 	0.225982 	54.098345 	9.212596 	1.571742 	0.000000
62596 	2017-10-25 	141.160004 	143.229996 	140.960007 	123.970779 	6563600 	JNJ 	2 	2.379369 	65.243357 	136.265128 	48.407780 	51.810794
39546 	2014-08-29 	57.652672 	57.652672 	57.089695 	43.994267 	5990158 	MRK 	4 	0.485724 	58.604924 	129.609437 	46.128168 	13.778847
46313 	2015-08-05 	28.237499 	29.360001 	28.025000 	26.180571 	397250400 	AAPL 	2 	-0.561262 	37.814633 	-230.416492 	53.244568 	204.257634
57423 	2017-02-10 	165.250000 	166.449997 	164.470001 	155.444748 	2689700 	BA 	4 	2.131971 	64.513104 	96.060896 	28.170135 	33.538351

Part 5. Design Environment

Considering the stochastic and interactive nature of the automated stock trading tasks, a financial task is modeled as a Markov Decision Process (MDP) problem. The training process involves observing stock price change, taking an action and reward's calculation to have the agent adjusting its strategy accordingly. By interacting with the environment, the trading agent will derive a trading strategy with the maximized rewards as time proceeds.

Our trading environments, based on OpenAI Gym framework, simulate live stock markets with real market data according to the principle of time-driven simulation.

The action space describes the allowed actions that the agent interacts with the environment. Normally, action a includes three actions: {-1, 0, 1}, where -1, 0, 1 represent selling, holding, and buying one share. Also, an action can be carried upon multiple shares. We use an action space {-k,…,-1, 0, 1, …, k}, where k denotes the number of shares to buy and -k denotes the number of shares to sell. For example, "Buy 10 shares of AAPL" or "Sell 10 shares of AAPL" are 10 or -10, respectively. The continuous action space needs to be normalized to [-1, 1], since the policy is defined on a Gaussian distribution, which needs to be normalized and symmetric.

stock_dimension = len(processed.tic.unique())
state_space = 1 + 2*stock_dimension + len(INDICATORS)*stock_dimension
print(f"Stock Dimension: {stock_dimension}, State Space: {state_space}")

Stock Dimension: 29, State Space: 175

env_kwargs = {
    "hmax": 100, 
    "initial_amount": 1000000, 
    "buy_cost_pct": 0.001, 
    "sell_cost_pct": 0.001, 
    "state_space": state_space, 
    "stock_dim": stock_dimension, 
    "tech_indicator_list": INDICATORS,
    "action_space": stock_dimension, 
    "reward_scaling": 1e-4,
    "print_verbosity":5
    
}

Part 6: Implement DRL Algorithms

    The implementation of the DRL algorithms are based on OpenAI Baselines and Stable Baselines. Stable Baselines is a fork of OpenAI Baselines, with a major structural refactoring, and code cleanups.
    FinRL library includes fine-tuned standard DRL algorithms, such as DQN, DDPG,

Multi-Agent DDPG, PPO, SAC, A2C and TD3. We also allow users to design their own DRL algorithms by adapting these DRL algorithms.

    In this notebook, we are training and validating 3 agents (A2C, PPO, DDPG) using Rolling-window Ensemble Method (reference code)

rebalance_window = 63 #63 # rebalance_window is the number of days to retrain the model
validation_window = 63 #63 # validation_window is the number of days to do validation and trading (e.g. if validation_window=63, then both validation and trading period will be 63 days)

ensemble_agent = DRLEnsembleAgent(df=processed,
                 train_period=(TRAIN_START_DATE,TRAIN_END_DATE),
                 val_test_period=(TEST_START_DATE,TEST_END_DATE),
                 rebalance_window=rebalance_window, 
                 validation_window=validation_window, 
                 **env_kwargs)

A2C_model_kwargs = {
                    'n_steps': 5,
                    'ent_coef': 0.005,
                    'learning_rate': 0.0007
                    }

PPO_model_kwargs = {
                    "ent_coef":0.01,
                    "n_steps": 2, #2048
                    "learning_rate": 0.00025,
                    "batch_size": 128
                    }

DDPG_model_kwargs = {
                      #"action_noise":"ornstein_uhlenbeck",
                      "buffer_size": 1, #10_000
                      "learning_rate": 0.0005,
                      "batch_size": 64
                    }

timesteps_dict = {'a2c' : 1, #10_000 each
                 'ppo' : 1, 
                 'ddpg' : 1
                 }

df_summary = ensemble_agent.run_ensemble_strategy(A2C_model_kwargs,
                                                 PPO_model_kwargs,
                                                 DDPG_model_kwargs,
                                                 timesteps_dict)

============Start Ensemble Strategy============
============================================
turbulence_threshold:  203.4025492950057
======Model training from:  2009-04-01 to  2021-01-04
======A2C Training========
{'n_steps': 5, 'ent_coef': 0.005, 'learning_rate': 0.0007}
Using cuda device
Logging to tensorboard_log/a2c/a2c_126_2
======A2C Validation from:  2021-01-04 to  2021-04-06
A2C Sharpe Ratio:  0.14436838779143474
======PPO Training========
{'ent_coef': 0.01, 'n_steps': 2, 'learning_rate': 0.00025, 'batch_size': 128}
Using cuda device
Logging to tensorboard_log/ppo/ppo_126_1
------------------------------------
| time/              |             |
|    fps             | 47          |
|    iterations      | 1           |
|    time_elapsed    | 0           |
|    total_timesteps | 2           |
| train/             |             |
|    reward          | 0.019164504 |
------------------------------------
======PPO Validation from:  2021-01-04 to  2021-04-06
PPO Sharpe Ratio:  0.25605306569795894
======DDPG Training========
{'buffer_size': 1, 'learning_rate': 0.0005, 'batch_size': 64}
Using cuda device
Logging to tensorboard_log/ddpg/ddpg_126_1
======DDPG Validation from:  2021-01-04 to  2021-04-06
======Best Model Retraining from:  2009-04-01 to  2021-04-06
======Trading from:  2021-04-06 to  2021-07-06
============================================
turbulence_threshold:  203.4025492950057
======Model training from:  2009-04-01 to  2021-04-06
======A2C Training========
{'n_steps': 5, 'ent_coef': 0.005, 'learning_rate': 0.0007}
Using cuda device
Logging to tensorboard_log/a2c/a2c_189_1
======A2C Validation from:  2021-04-06 to  2021-07-06
A2C Sharpe Ratio:  0.24211477519802077
======PPO Training========
{'ent_coef': 0.01, 'n_steps': 2, 'learning_rate': 0.00025, 'batch_size': 128}
Using cuda device
Logging to tensorboard_log/ppo/ppo_189_1
-------------------------------------
| time/              |              |
|    fps             | 62           |
|    iterations      | 1            |
|    time_elapsed    | 0            |
|    total_timesteps | 2            |
| train/             |              |
|    reward          | 0.0028279088 |
-------------------------------------
======PPO Validation from:  2021-04-06 to  2021-07-06
PPO Sharpe Ratio:  0.16966525300375485
======DDPG Training========
{'buffer_size': 1, 'learning_rate': 0.0005, 'batch_size': 64}
Using cuda device
Logging to tensorboard_log/ddpg/ddpg_189_1
======DDPG Validation from:  2021-04-06 to  2021-07-06
======Best Model Retraining from:  2009-04-01 to  2021-07-06
======Trading from:  2021-07-06 to  2021-10-04
============================================
turbulence_threshold:  203.4025492950057
======Model training from:  2009-04-01 to  2021-07-06
======A2C Training========
{'n_steps': 5, 'ent_coef': 0.005, 'learning_rate': 0.0007}
Using cuda device
Logging to tensorboard_log/a2c/a2c_252_1
======A2C Validation from:  2021-07-06 to  2021-10-04
A2C Sharpe Ratio:  0.0047296329718654806
======PPO Training========
{'ent_coef': 0.01, 'n_steps': 2, 'learning_rate': 0.00025, 'batch_size': 128}
Using cuda device
Logging to tensorboard_log/ppo/ppo_252_1
------------------------------------
| time/              |             |
|    fps             | 59          |
|    iterations      | 1           |
|    time_elapsed    | 0           |
|    total_timesteps | 2           |
| train/             |             |
|    reward          | 0.037194405 |
------------------------------------
======PPO Validation from:  2021-07-06 to  2021-10-04
PPO Sharpe Ratio:  -0.02644333693082262
======DDPG Training========
{'buffer_size': 1, 'learning_rate': 0.0005, 'batch_size': 64}
Using cuda device
Logging to tensorboard_log/ddpg/ddpg_252_1
======DDPG Validation from:  2021-07-06 to  2021-10-04
======Best Model Retraining from:  2009-04-01 to  2021-10-04
======Trading from:  2021-10-04 to  2022-01-03
============================================
turbulence_threshold:  203.4025492950057
======Model training from:  2009-04-01 to  2021-10-04
======A2C Training========
{'n_steps': 5, 'ent_coef': 0.005, 'learning_rate': 0.0007}
Using cuda device
Logging to tensorboard_log/a2c/a2c_315_1
======A2C Validation from:  2021-10-04 to  2022-01-03
A2C Sharpe Ratio:  0.22080259787185566
======PPO Training========
{'ent_coef': 0.01, 'n_steps': 2, 'learning_rate': 0.00025, 'batch_size': 128}
Using cuda device
Logging to tensorboard_log/ppo/ppo_315_1
------------------------------------
| time/              |             |
|    fps             | 59          |
|    iterations      | 1           |
|    time_elapsed    | 0           |
|    total_timesteps | 2           |
| train/             |             |
|    reward          | 0.012130291 |
------------------------------------
======PPO Validation from:  2021-10-04 to  2022-01-03
PPO Sharpe Ratio:  0.16656545953109805
======DDPG Training========
{'buffer_size': 1, 'learning_rate': 0.0005, 'batch_size': 64}
Using cuda device
Logging to tensorboard_log/ddpg/ddpg_315_1
======DDPG Validation from:  2021-10-04 to  2022-01-03
======Best Model Retraining from:  2009-04-01 to  2022-01-03
======Trading from:  2022-01-03 to  2022-04-04
Ensemble Strategy took:  3.726950216293335  minutes

df_summary

	Iter 	Val Start 	Val End 	Model Used 	A2C Sharpe 	PPO Sharpe 	DDPG Sharpe
0 	126 	2021-01-04 	2021-04-06 	DDPG 	0.144368 	0.256053 	0.299737
1 	189 	2021-04-06 	2021-07-06 	A2C 	0.242115 	0.169665 	0.239078
2 	252 	2021-07-06 	2021-10-04 	A2C 	0.00473 	-0.026443 	-0.026299
3 	315 	2021-10-04 	2022-01-03 	A2C 	0.220803 	0.166565 	0.113222

Part 7: Backtest Our Strategy

Backtesting plays a key role in evaluating the performance of a trading strategy. Automated backtesting tool is preferred because it reduces the human error. We usually use the Quantopian pyfolio package to backtest our trading strategies. It is easy to use and consists of various individual plots that provide a comprehensive image of the performance of a trading strategy.

unique_trade_date = processed[(processed.date > TEST_START_DATE)&(processed.date <= TEST_END_DATE)].date.unique()

df_trade_date = pd.DataFrame({'datadate':unique_trade_date})

df_account_value=pd.DataFrame()
for i in range(rebalance_window+validation_window, len(unique_trade_date)+1,rebalance_window):
    temp = pd.read_csv('results/account_value_trade_{}_{}.csv'.format('ensemble',i))
    df_account_value = df_account_value.append(temp,ignore_index=True)
sharpe=(252**0.5)*df_account_value.account_value.pct_change(1).mean()/df_account_value.account_value.pct_change(1).std()
print('Sharpe Ratio: ',sharpe)
df_account_value=df_account_value.join(df_trade_date[validation_window:].reset_index(drop=True))

Sharpe Ratio:  0.09608769419577266

df_account_value.head()

	account_value 	date 	daily_return 	datadate
0 	1.000000e+06 	2021-04-06 	NaN 	2021-04-06
1 	9.999415e+05 	2021-04-07 	-0.000058 	2021-04-07
2 	1.000887e+06 	2021-04-08 	0.000945 	2021-04-08
3 	1.008799e+06 	2021-04-09 	0.007905 	2021-04-09
4 	1.007317e+06 	2021-04-12 	-0.001470 	2021-04-12

%matplotlib inline
df_account_value.account_value.plot()

<matplotlib.axes._subplots.AxesSubplot at 0x7f7a5471d9a0>

7.1 BackTestStats

pass in df_account_value, this information is stored in env class

print("==============Get Backtest Results===========")
now = datetime.datetime.now().strftime('%Y%m%d-%Hh%M')

perf_stats_all = backtest_stats(account_value=df_account_value)
perf_stats_all = pd.DataFrame(perf_stats_all)

==============Get Backtest Results===========
Annual return          0.003927
Cumulative returns     0.003927
Annual volatility      0.133999
Sharpe ratio           0.096088
Calmar ratio           0.028174
Stability              0.082392
Max drawdown          -0.139385
Omega ratio            1.016089
Sortino ratio          0.137167
Skew                        NaN
Kurtosis                    NaN
Tail ratio             0.945446
Daily value at risk   -0.016831
dtype: float64

#baseline stats
print("==============Get Baseline Stats===========")
baseline_df = get_baseline(
        ticker="^DJI", 
        start = df_account_value.loc[0,'date'],
        end = df_account_value.loc[len(df_account_value)-1,'date'])

stats = backtest_stats(baseline_df, value_col_name = 'close')

==============Get Baseline Stats===========
[*********************100%***********************]  1 of 1 completed
Shape of DataFrame:  (251, 8)
Annual return          0.037486
Cumulative returns     0.037335
Annual volatility      0.134331
Sharpe ratio           0.342028
Calmar ratio           0.331049
Stability              0.066383
Max drawdown          -0.113235
Omega ratio            1.058031
Sortino ratio          0.480831
Skew                        NaN
Kurtosis                    NaN
Tail ratio             0.970301
Daily value at risk   -0.016742
dtype: float64

7.2 BackTestPlot

print("==============Compare to DJIA===========")
%matplotlib inline
# S&P 500: ^GSPC
# Dow Jones Index: ^DJI
# NASDAQ 100: ^NDX
backtest_plot(df_account_value, 
              baseline_ticker = '^DJI', 
              baseline_start = df_account_value.loc[0,'date'],
              baseline_end = df_account_value.loc[len(df_account_value)-1,'date'])

==============Compare to DJIA===========
[*********************100%***********************]  1 of 1 completed
Shape of DataFrame:  (251, 8)

Start date	2021-04-06
End date	2022-04-01
Total months	12
	Backtest
Annual return 	0.393%
Cumulative returns 	0.393%
Annual volatility 	13.4%
Sharpe ratio 	0.10
Calmar ratio 	0.03
Stability 	0.08
Max drawdown 	-13.938%
Omega ratio 	1.02
Sortino ratio 	0.14
Skew 	NaN
Kurtosis 	NaN
Tail ratio 	0.95
Daily value at risk 	-1.683%
Alpha 	-0.03
Beta 	0.93
Worst drawdown periods 	Net drawdown in % 	Peak date 	Valley date 	Recovery date 	Duration
0 	13.94 	2021-11-05 	2022-02-23 	NaT 	NaN
1 	6.21 	2021-08-16 	2021-09-30 	2021-11-04 	59
2 	3.90 	2021-05-07 	2021-06-18 	2021-06-29 	38
3 	2.59 	2021-07-15 	2021-07-19 	2021-07-23 	7
4 	1.77 	2021-04-23 	2021-04-28 	2021-05-06 	10
Stress Events 	mean 	min 	max
New Normal 	0.01% 	-2.33% 	2.72%

from alpaca.data.historical import CryptoHistoricalDataClient
from alpaca.data.requests import CryptoBarsRequest
from alpaca.data.timeframe import TimeFrame
import datetime as datetime
from alpaca.data.live import StockDataStream
from alpaca.trading.client import TradingClient
from alpaca.trading.requests import MarketOrderRequest
from alpaca.trading.enums import OrderSide, TimeInForce
from alpaca.trading.requests import LimitOrderRequest
# #I make a cryptocurrency trading bot and hand it a $1000 dollars and leave it to trade that unsupervised for a week.

# # paper=True enables paper trading
trading_client = TradingClient('AKBX22ZJIYXAAD7YPOB0', 'dfHX3SjDlg85SDtDAVQQqrfPTqD2npPKQj0ifMSf', paper=False)


##Market Order 
# preparing orders
market_order_data = MarketOrderRequest(
                    symbol="NVDA",
                    qty=1,
                    side=OrderSide.SELL,
                    time_in_force=TimeInForce.DAY
                    )

# Market order
market_order = trading_client.submit_order(
                order_data=market_order_data
               )

# if(DRLEnsembleAGent.Sharpe > .4)

# # Market order
# market_order = trading_client.submit_order(fndsdsdsfdsdsf
#                 order_data=market_order_data
#                )

# else

# print(no trades for today)

!pip install alpaca-py

Looking in indexes: https://pypi.org/simple, https://us-python.pkg.dev/colab-wheels/public/simple/
Collecting alpaca-py
  Downloading alpaca_py-0.7.0-py3-none-any.whl (95 kB)
     ━━━━━━━━━━━━━━━━━━━━━━━━━━━━━━━━━━━━━━━━ 95.3/95.3 KB 3.0 MB/s eta 0:00:00
Collecting sseclient-py<2.0.0,>=1.7.2
  Downloading sseclient_py-1.7.2-py2.py3-none-any.whl (8.4 kB)
Requirement already satisfied: pandas<2.0.0,>=1.3.5 in /usr/local/lib/python3.8/dist-packages (from alpaca-py) (1.3.5)
Collecting websockets<11.0,>=10.2
  Downloading websockets-10.4-cp38-cp38-manylinux_2_5_x86_64.manylinux1_x86_64.manylinux_2_17_x86_64.manylinux2014_x86_64.whl (106 kB)
     ━━━━━━━━━━━━━━━━━━━━━━━━━━━━━━━━━━━━━━━ 107.0/107.0 KB 7.3 MB/s eta 0:00:00
Requirement already satisfied: msgpack<2.0.0,>=1.0.3 in /usr/local/lib/python3.8/dist-packages (from alpaca-py) (1.0.4)
Collecting requests<3.0.0,>=2.27.1
  Downloading requests-2.28.2-py3-none-any.whl (62 kB)
     ━━━━━━━━━━━━━━━━━━━━━━━━━━━━━━━━━━━━━━━━ 62.8/62.8 KB 4.5 MB/s eta 0:00:00
Requirement already satisfied: pydantic<2.0.0,>=1.9.0 in /usr/local/lib/python3.8/dist-packages (from alpaca-py) (1.10.4)
Requirement already satisfied: python-dateutil>=2.7.3 in /usr/local/lib/python3.8/dist-packages (from pandas<2.0.0,>=1.3.5->alpaca-py) (2.8.2)
Requirement already satisfied: numpy>=1.17.3 in /usr/local/lib/python3.8/dist-packages (from pandas<2.0.0,>=1.3.5->alpaca-py) (1.21.6)
Requirement already satisfied: pytz>=2017.3 in /usr/local/lib/python3.8/dist-packages (from pandas<2.0.0,>=1.3.5->alpaca-py) (2022.7)
Requirement already satisfied: typing-extensions>=4.2.0 in /usr/local/lib/python3.8/dist-packages (from pydantic<2.0.0,>=1.9.0->alpaca-py) (4.4.0)
Requirement already satisfied: certifi>=2017.4.17 in /usr/local/lib/python3.8/dist-packages (from requests<3.0.0,>=2.27.1->alpaca-py) (2022.12.7)
Requirement already satisfied: idna<4,>=2.5 in /usr/local/lib/python3.8/dist-packages (from requests<3.0.0,>=2.27.1->alpaca-py) (2.10)
Requirement already satisfied: urllib3<1.27,>=1.21.1 in /usr/local/lib/python3.8/dist-packages (from requests<3.0.0,>=2.27.1->alpaca-py) (1.24.3)
Requirement already satisfied: charset-normalizer<4,>=2 in /usr/local/lib/python3.8/dist-packages (from requests<3.0.0,>=2.27.1->alpaca-py) (2.1.1)
Requirement already satisfied: six>=1.5 in /usr/local/lib/python3.8/dist-packages (from python-dateutil>=2.7.3->pandas<2.0.0,>=1.3.5->alpaca-py) (1.15.0)
Installing collected packages: sseclient-py, websockets, requests, alpaca-py
  Attempting uninstall: requests
    Found existing installation: requests 2.25.1
    Uninstalling requests-2.25.1:
      Successfully uninstalled requests-2.25.1
Successfully installed alpaca-py-0.7.0 requests-2.28.2 sseclient-py-1.7.2 websockets-10.4

!pip install alpaca

Looking in indexes: https://pypi.org/simple, https://us-python.pkg.dev/colab-wheels/public/simple/
Collecting alpaca
  Downloading alpaca-1.0.0.tar.gz (10 kB)
  Preparing metadata (setup.py) ... done
Building wheels for collected packages: alpaca
  Building wheel for alpaca (setup.py) ... done
  Created wheel for alpaca: filename=alpaca-1.0.0-py3-none-any.whl size=14089 sha256=ec2399ff8786717f3f1d8e7f7c8c6e77e3693cf1a8e09b651ce2afbdb2112560
  Stored in directory: /root/.cache/pip/wheels/37/c0/67/09e87b64a3d712bead9cfccf3ac045a2926ab94714f4f9ea66
Successfully built alpaca
Installing collected packages: alpaca
Successfully installed alpaca-1.0.0

 

from alpaca.data.historical import CryptoHistoricalDataClient
from alpaca.data.requests import CryptoBarsRequest
from alpaca.data.timeframe import TimeFrame
import datetime as datetime
from alpaca.data.live import StockDataStream
from alpaca.trading.client import TradingClient
from alpaca.trading.requests import MarketOrderRequest
from alpaca.trading.enums import OrderSide, TimeInForce
from alpaca.trading.requests import LimitOrderRequest

# #I make a cryptocurrency trading bot and hand it a $1000 dollars and leave it to trade that unsupervised for a week.

# # paper=True enables paper trading
trading_client = TradingClient('PKJFG13OGRFGBCNGW757', 'xgUhyrffFUxOmuSchcONqHcbFc6kMjMHOWodxwH9', paper=True)


##Market Order 
# preparing orders
market_order_data = MarketOrderRequest(
                    symbol="SPY",
                    qty=10,
                    side=OrderSide.BUY,
                    time_in_force=TimeInForce.DAY
                    )

# Market order
market_order = trading_client.submit_order(
                order_data=market_order_data
               )


## Twitter Sentiment Analysis 

# limit_order_data = LimitOrderRequest(
#                     symbol="BTC/USD",
#                     limit_price=17000,
#                     notional=4000,
#                     side=OrderSide.SELL,
#                     time_in_force=TimeInForce.FOK
#                    )

# # Limit order
# limit_order = trading_client.submit_order(
#                 order_data=limit_order_data
#               )

# wss_client = StockDataStream('AKIQ3ALAC0B2HOM1PPNE', 'dMekSYsqKqyoF6WM4lJ8YnE92ERDxeQVrhvrjAxa')

# # async handler
# async def quote_data_handler(data):
#     # quote data will arrive here
#     print(data)


# wss_client.subscribe_quotes(quote_data_handler, "AAPL")

# wss_client.run()

# # no keys required for crypto data
# client = CryptoHistoricalDataClient()

# request_params = CryptoBarsRequest(
#                         symbol_or_symbols=["BTC/USD", "ETH/USD"],
#                         timeframe=TimeFrame.Day,
#                         start=datetime.datetime(2022, 12, 20, 14, 30)
#                  )

# bars = client.get_crypto_bars(request_params)
# bars.df
# print(bars)

---------------------------------------------------------------------------
ModuleNotFoundError                       Traceback (most recent call last)
<ipython-input-1-0c7000bbaf13> in <module>
----> 1 from alpaca.data.historical import CryptoHistoricalDataClient
      2 from alpaca.data.requests import CryptoBarsRequest
      3 from alpaca.data.timeframe import TimeFrame
      4 import datetime as datetime
      5 from alpaca.data.live import StockDataStream

ModuleNotFoundError: No module named 'alpaca'

---------------------------------------------------------------------------
NOTE: If your import is failing due to a missing package, you can
manually install dependencies using either !pip or !apt.

To view examples of installing some common dependencies, click the
"Open Examples" button below.
---------------------------------------------------------------------------

